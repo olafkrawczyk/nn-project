{
 "cells": [
  {
   "cell_type": "markdown",
   "metadata": {},
   "source": [
    "# Projekcik Podstawy obliczeń neuronowych \n",
    "\n",
    "## Sieć w tensorflow\n",
    "\n",
    "Na podstawie\n",
    "`https://medium.com/@curiousily/tensorflow-for-hackers-part-ii-building-simple-neural-network-2d6779d2f91b`\n",
    "\n",
    "## Zbiór danych:\n",
    "\n",
    "Na razie breast cancer wisconsin, chyba najlepiej opisany coś znajdziemy\n",
    "\n",
    "## Plan\n",
    "\n",
    "- [ ] Stworzyć i wytrenować sieć\n",
    "- [ ] Sprawdzić dokładność metodami statystycznymi\n",
    "- [ ] Wrzucić ją do jakiegoś UI\n",
    "- [ ] Napisać dokumentację\n",
    "- [ ] i EELOOOOOO"
   ]
  },
  {
   "cell_type": "code",
   "execution_count": 1,
   "metadata": {},
   "outputs": [
    {
     "name": "stderr",
     "output_type": "stream",
     "text": [
      "Using TensorFlow backend.\n"
     ]
    }
   ],
   "source": [
    "import pandas as pd\n",
    "import matplotlib.pyplot as plt\n",
    "import seaborn as sns\n",
    "import numpy as np\n",
    "import tensorflow as tf\n",
    "import keras\n",
    "\n",
    "from keras.models import Sequential\n",
    "from keras.layers import Dense, Dropout, Activation\n",
    "from keras.layers.advanced_activations import LeakyReLU\n",
    "from keras import backend\n",
    "from keras.utils import to_categorical\n",
    "from math import floor, ceil\n",
    "from sklearn.utils import shuffle\n",
    "from sklearn.model_selection import train_test_split\n",
    "from sklearn.metrics import accuracy_score\n",
    "\n",
    "%matplotlib inline\n",
    "\n",
    "sns.set(style='ticks', palette='Spectral', font_scale=1.5)\n",
    "material_palette = [\"#4CAF50\", \"#2196F3\", \"#9E9E9E\", \"#FF9800\", \"#607D8B\", \"#9C27B0\"]\n",
    "sns.set_palette(material_palette)\n",
    "\n",
    "# Ładujemy dane z katalogu datasets\n",
    "col_names = ['ct', 'ucsi', 'ucsh', 'ma', 'bc', 'secs', 'bn', 'nn', 'mi', 'cl'];\n",
    "dataset = pd.read_csv('./datasets/bcw_clean.csv', header=None, names=col_names)\n",
    "dataset = shuffle(dataset)"
   ]
  },
  {
   "cell_type": "code",
   "execution_count": 2,
   "metadata": {},
   "outputs": [
    {
     "data": {
      "image/png": "[encoded data removed]",
      "text/plain": [
       "<Figure size 432x288 with 1 Axes>"
      ]
     },
     "metadata": {
      "needs_background": "light"
     },
     "output_type": "display_data"
    }
   ],
   "source": [
    "## Sprawdzamy liczebność klas \n",
    "## 2 - nowotwór łagodny\n",
    "## 4 - nowotwór złośliwy\n",
    "\n",
    "dataset.cl.value_counts().plot(kind=\"bar\", rot=0)\n",
    "dataset = dataset.replace('?', 0)\n",
    "dataset = dataset.apply(pd.to_numeric)\n"
   ]
  },
  {
   "cell_type": "code",
   "execution_count": 3,
   "metadata": {},
   "outputs": [
    {
     "data": {
      "image/png": "[encoded data removed]",
      "text/plain": [
       "<Figure size 1440x864 with 2 Axes>"
      ]
     },
     "metadata": {
      "needs_background": "light"
     },
     "output_type": "display_data"
    }
   ],
   "source": [
    "## Macierz korelacji\n",
    "corr_mat = dataset.corr()\n",
    "fig, ax = plt.subplots(figsize=(20, 12))\n",
    "sns.heatmap(corr_mat, vmax=1.0, square=True, ax=ax);"
   ]
  },
  {
   "cell_type": "markdown",
   "metadata": {},
   "source": [
    "### Budujemy model!"
   ]
  },
  {
   "cell_type": "code",
   "execution_count": 16,
   "metadata": {},
   "outputs": [
    {
     "name": "stdout",
     "output_type": "stream",
     "text": [
      "x_train shape: (137, 9)\n",
      "547 train samples\n",
      "137 test samples\n"
     ]
    }
   ],
   "source": [
    "# Keras potrzebuje indeksowania klas od 0 do liczby klas\n",
    "dataset['cl'] = dataset['cl'].replace(2, 0)\n",
    "dataset['cl'] = dataset['cl'].replace(4, 1)\n",
    "\n",
    "X = dataset.iloc[:, :9].values\n",
    "y = dataset.iloc[:, 9].values\n",
    "y = keras.utils.to_categorical(y)\n",
    "\n",
    "X_train, X_test, y_train, y_test = train_test_split(X, y,test_size = 0.2)\n",
    "\n",
    "print('x_train shape:', X_test.shape)\n",
    "print(X_train.shape[0], 'train samples')\n",
    "print(X_test.shape[0], 'test samples')"
   ]
  },
  {
   "cell_type": "code",
   "execution_count": 12,
   "metadata": {},
   "outputs": [],
   "source": [
    "# Model\n",
    "\n",
    "model = Sequential()\n",
    "dim = X_train.shape[1]\n",
    "#Layer 1\n",
    "model.add(Dense(9, input_dim = dim, activation='relu'))\n",
    "model.add(Dropout(0.25))\n",
    "\n",
    "#Layer 2\n",
    "model.add(Dense(9, activation='relu'))\n",
    "model.add(Dropout(0.25))\n",
    "\n",
    "#Layer 3\n",
    "model.add(Dense(9, activation='relu'))\n",
    "model.add(Dropout(0.25))\n",
    "\n",
    "#output layer\n",
    "model.add(Dense(2))\n",
    "model.add(Activation('sigmoid'))\n",
    "model.compile(optimizer = 'adam',loss = 'mean_squared_error',\n",
    "metrics = ['accuracy'])"
   ]
  },
  {
   "cell_type": "code",
   "execution_count": 37,
   "metadata": {},
   "outputs": [
    {
     "name": "stdout",
     "output_type": "stream",
     "text": [
      "Train on 547 samples, validate on 137 samples\n",
      "Epoch 1/40\n",
      "547/547 [==============================] - 0s 97us/step - loss: 0.0425 - acc: 0.9561 - val_loss: 0.0346 - val_acc: 0.9562\n",
      "Epoch 2/40\n",
      "547/547 [==============================] - 0s 118us/step - loss: 0.0503 - acc: 0.9488 - val_loss: 0.0347 - val_acc: 0.9562\n",
      "Epoch 3/40\n",
      "547/547 [==============================] - 0s 124us/step - loss: 0.0495 - acc: 0.9488 - val_loss: 0.0351 - val_acc: 0.9562\n",
      "Epoch 4/40\n",
      "547/547 [==============================] - 0s 172us/step - loss: 0.0512 - acc: 0.9415 - val_loss: 0.0350 - val_acc: 0.9562\n",
      "Epoch 5/40\n",
      "547/547 [==============================] - 0s 152us/step - loss: 0.0456 - acc: 0.9506 - val_loss: 0.0338 - val_acc: 0.9562\n",
      "Epoch 6/40\n",
      "547/547 [==============================] - 0s 162us/step - loss: 0.0475 - acc: 0.9470 - val_loss: 0.0333 - val_acc: 0.9562\n",
      "Epoch 7/40\n",
      "547/547 [==============================] - 0s 92us/step - loss: 0.0474 - acc: 0.9488 - val_loss: 0.0343 - val_acc: 0.9562\n",
      "Epoch 8/40\n",
      "547/547 [==============================] - 0s 109us/step - loss: 0.0414 - acc: 0.9598 - val_loss: 0.0341 - val_acc: 0.9562\n",
      "Epoch 9/40\n",
      "547/547 [==============================] - 0s 91us/step - loss: 0.0459 - acc: 0.9433 - val_loss: 0.0352 - val_acc: 0.9562\n",
      "Epoch 10/40\n",
      "547/547 [==============================] - 0s 93us/step - loss: 0.0470 - acc: 0.9360 - val_loss: 0.0353 - val_acc: 0.9562\n",
      "Epoch 11/40\n",
      "547/547 [==============================] - 0s 95us/step - loss: 0.0510 - acc: 0.9470 - val_loss: 0.0355 - val_acc: 0.9562\n",
      "Epoch 12/40\n",
      "547/547 [==============================] - 0s 148us/step - loss: 0.0480 - acc: 0.9488 - val_loss: 0.0352 - val_acc: 0.9562\n",
      "Epoch 13/40\n",
      "547/547 [==============================] - 0s 123us/step - loss: 0.0443 - acc: 0.9561 - val_loss: 0.0338 - val_acc: 0.9562\n",
      "Epoch 14/40\n",
      "547/547 [==============================] - 0s 148us/step - loss: 0.0466 - acc: 0.9470 - val_loss: 0.0339 - val_acc: 0.9562\n",
      "Epoch 15/40\n",
      "547/547 [==============================] - 0s 139us/step - loss: 0.0475 - acc: 0.9525 - val_loss: 0.0343 - val_acc: 0.9562\n",
      "Epoch 16/40\n",
      "547/547 [==============================] - 0s 156us/step - loss: 0.0369 - acc: 0.9616 - val_loss: 0.0344 - val_acc: 0.9562\n",
      "Epoch 17/40\n",
      "547/547 [==============================] - 0s 156us/step - loss: 0.0432 - acc: 0.9506 - val_loss: 0.0339 - val_acc: 0.9562\n",
      "Epoch 18/40\n",
      "547/547 [==============================] - 0s 259us/step - loss: 0.0420 - acc: 0.9561 - val_loss: 0.0335 - val_acc: 0.9562\n",
      "Epoch 19/40\n",
      "547/547 [==============================] - 0s 106us/step - loss: 0.0374 - acc: 0.9653 - val_loss: 0.0314 - val_acc: 0.9562\n",
      "Epoch 20/40\n",
      "547/547 [==============================] - 0s 127us/step - loss: 0.0455 - acc: 0.9415 - val_loss: 0.0321 - val_acc: 0.9562\n",
      "Epoch 21/40\n",
      "547/547 [==============================] - 0s 114us/step - loss: 0.0439 - acc: 0.9488 - val_loss: 0.0325 - val_acc: 0.9562\n",
      "Epoch 22/40\n",
      "547/547 [==============================] - 0s 257us/step - loss: 0.0376 - acc: 0.9634 - val_loss: 0.0332 - val_acc: 0.9562\n",
      "Epoch 23/40\n",
      "547/547 [==============================] - 0s 175us/step - loss: 0.0543 - acc: 0.9415 - val_loss: 0.0337 - val_acc: 0.9562\n",
      "Epoch 24/40\n",
      "547/547 [==============================] - 0s 183us/step - loss: 0.0402 - acc: 0.9598 - val_loss: 0.0334 - val_acc: 0.9562\n",
      "Epoch 25/40\n",
      "547/547 [==============================] - 0s 196us/step - loss: 0.0407 - acc: 0.9543 - val_loss: 0.0310 - val_acc: 0.9562\n",
      "Epoch 26/40\n",
      "547/547 [==============================] - 0s 196us/step - loss: 0.0452 - acc: 0.9525 - val_loss: 0.0315 - val_acc: 0.9562\n",
      "Epoch 27/40\n",
      "547/547 [==============================] - 0s 175us/step - loss: 0.0451 - acc: 0.9506 - val_loss: 0.0329 - val_acc: 0.9562\n",
      "Epoch 28/40\n",
      "547/547 [==============================] - 0s 139us/step - loss: 0.0444 - acc: 0.9506 - val_loss: 0.0322 - val_acc: 0.9562\n",
      "Epoch 29/40\n",
      "547/547 [==============================] - 0s 138us/step - loss: 0.0350 - acc: 0.9616 - val_loss: 0.0328 - val_acc: 0.9562\n",
      "Epoch 30/40\n",
      "547/547 [==============================] - 0s 157us/step - loss: 0.0339 - acc: 0.9616 - val_loss: 0.0335 - val_acc: 0.9562\n",
      "Epoch 31/40\n",
      "547/547 [==============================] - 0s 119us/step - loss: 0.0366 - acc: 0.9634 - val_loss: 0.0343 - val_acc: 0.9562\n",
      "Epoch 32/40\n",
      "547/547 [==============================] - 0s 185us/step - loss: 0.0423 - acc: 0.9525 - val_loss: 0.0351 - val_acc: 0.9562\n",
      "Epoch 33/40\n",
      "547/547 [==============================] - 0s 287us/step - loss: 0.0356 - acc: 0.9689 - val_loss: 0.0358 - val_acc: 0.9562\n",
      "Epoch 34/40\n",
      "547/547 [==============================] - 0s 152us/step - loss: 0.0425 - acc: 0.9525 - val_loss: 0.0353 - val_acc: 0.9562\n",
      "Epoch 35/40\n",
      "547/547 [==============================] - 0s 206us/step - loss: 0.0361 - acc: 0.9616 - val_loss: 0.0343 - val_acc: 0.9562\n",
      "Epoch 36/40\n",
      "547/547 [==============================] - 0s 147us/step - loss: 0.0404 - acc: 0.9580 - val_loss: 0.0342 - val_acc: 0.9562\n",
      "Epoch 37/40\n",
      "547/547 [==============================] - 0s 145us/step - loss: 0.0456 - acc: 0.9488 - val_loss: 0.0350 - val_acc: 0.9562\n",
      "Epoch 38/40\n",
      "547/547 [==============================] - 0s 120us/step - loss: 0.0455 - acc: 0.9470 - val_loss: 0.0350 - val_acc: 0.9562\n",
      "Epoch 39/40\n",
      "547/547 [==============================] - 0s 91us/step - loss: 0.0399 - acc: 0.9616 - val_loss: 0.0360 - val_acc: 0.9562\n",
      "Epoch 40/40\n",
      "547/547 [==============================] - 0s 97us/step - loss: 0.0389 - acc: 0.9543 - val_loss: 0.0360 - val_acc: 0.9562\n"
     ]
    }
   ],
   "source": [
    "#Fit/Train the model\n",
    "bsize = 32  \n",
    "history = model.fit(X_train, y_train, batch_size = bsize, epochs = 40, verbose = 1,validation_data = (X_test, y_test))"
   ]
  },
  {
   "cell_type": "code",
   "execution_count": 38,
   "metadata": {},
   "outputs": [
    {
     "data": {
      "text/plain": [
       "<keras.callbacks.History at 0x134703240>"
      ]
     },
     "execution_count": 38,
     "metadata": {},
     "output_type": "execute_result"
    }
   ],
   "source": []
  },
  {
   "cell_type": "code",
   "execution_count": 40,
   "metadata": {},
   "outputs": [
    {
     "data": {
      "text/plain": [
       "{'batch_size': 32,\n",
       " 'epochs': 40,\n",
       " 'steps': None,\n",
       " 'samples': 547,\n",
       " 'verbose': 1,\n",
       " 'do_validation': True,\n",
       " 'metrics': ['loss', 'acc', 'val_loss', 'val_acc']}"
      ]
     },
     "execution_count": 40,
     "metadata": {},
     "output_type": "execute_result"
    }
   ],
   "source": []
  },
  {
   "cell_type": "code",
   "execution_count": null,
   "metadata": {},
   "outputs": [],
   "source": []
  }
 ],
 "metadata": {
  "kernelspec": {
   "display_name": "Python 3",
   "language": "python",
   "name": "python3"
  },
  "language_info": {
   "codemirror_mode": {
    "name": "ipython",
    "version": 3
   },
   "file_extension": ".py",
   "mimetype": "text/x-python",
   "name": "python",
   "nbconvert_exporter": "python",
   "pygments_lexer": "ipython3",
   "version": "3.6.5"
  }
 },
 "nbformat": 4,
 "nbformat_minor": 2
}
