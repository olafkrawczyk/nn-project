{
 "cells": [
  {
   "cell_type": "markdown",
   "metadata": {},
   "source": [
    "# Projekcik Podstawy obliczeń neuronowych \n",
    "\n",
    "## Sieć w tensorflow\n",
    "\n",
    "Na podstawie\n",
    "`https://medium.com/@curiousily/tensorflow-for-hackers-part-ii-building-simple-neural-network-2d6779d2f91b`\n",
    "\n",
    "## Zbiór danych:\n",
    "\n",
    "Na razie breast cancer wisconsin, chyba najlepiej opisany coś znajdziemy\n",
    "\n",
    "## Plan\n",
    "\n",
    "- [ ] Stworzyć i wytrenować sieć\n",
    "- [ ] Sprawdzić dokładność metodami statystycznymi\n",
    "- [ ] Wrzucić ją do jakiegoś UI\n",
    "- [ ] Napisać dokumentację\n",
    "- [ ] i EELOOOOOO"
   ]
  },
  {
   "cell_type": "code",
   "execution_count": 1,
   "metadata": {},
   "outputs": [
    {
     "name": "stderr",
     "output_type": "stream",
     "text": [
      "Using TensorFlow backend.\n"
     ]
    }
   ],
   "source": [
    "import pandas as pd\n",
    "import matplotlib.pyplot as plt\n",
    "import seaborn as sns\n",
    "import numpy as np\n",
    "import tensorflow as tf\n",
    "import keras\n",
    "\n",
    "from keras.models import Sequential\n",
    "from keras.layers import Dense, Dropout, Activation\n",
    "from keras.layers.advanced_activations import LeakyReLU\n",
    "from keras import backend\n",
    "from keras.utils import to_categorical\n",
    "from math import floor, ceil\n",
    "from sklearn.utils import shuffle\n",
    "from sklearn.model_selection import train_test_split\n",
    "from sklearn.metrics import accuracy_score\n",
    "\n",
    "%matplotlib inline\n",
    "\n",
    "sns.set(style='ticks', palette='Spectral', font_scale=1.5)\n",
    "material_palette = [\"#4CAF50\", \"#2196F3\", \"#9E9E9E\", \"#FF9800\", \"#607D8B\", \"#9C27B0\"]\n",
    "sns.set_palette(material_palette)\n",
    "\n",
    "# Ładujemy dane z katalogu datasets\n",
    "col_names = ['ct', 'ucsi', 'ucsh', 'ma', 'bc', 'secs', 'bn', 'nn', 'mi', 'cl'];\n",
    "dataset = pd.read_csv('./datasets/bcw_clean.csv', header=None, names=col_names)\n",
    "dataset = shuffle(dataset)"
   ]
  },
  {
   "cell_type": "code",
   "execution_count": 2,
   "metadata": {},
   "outputs": [
    {
     "data": {
      "image/png": "[encoded data removed]",
      "text/plain": [
       "<Figure size 432x288 with 1 Axes>"
      ]
     },
     "metadata": {
      "needs_background": "light"
     },
     "output_type": "display_data"
    }
   ],
   "source": [
    "## Sprawdzamy liczebność klas \n",
    "## 2 - nowotwór łagodny\n",
    "## 4 - nowotwór złośliwy\n",
    "\n",
    "dataset.cl.value_counts().plot(kind=\"bar\", rot=0)\n",
    "dataset = dataset.replace('?', 0)\n",
    "dataset = dataset.apply(pd.to_numeric)\n"
   ]
  },
  {
   "cell_type": "code",
   "execution_count": 3,
   "metadata": {},
   "outputs": [
    {
     "data": {
      "image/png": "[encoded data removed]",
      "text/plain": [
       "<Figure size 1440x864 with 2 Axes>"
      ]
     },
     "metadata": {
      "needs_background": "light"
     },
     "output_type": "display_data"
    }
   ],
   "source": [
    "## Macierz korelacji\n",
    "corr_mat = dataset.corr()\n",
    "fig, ax = plt.subplots(figsize=(20, 12))\n",
    "sns.heatmap(corr_mat, vmax=1.0, square=True, ax=ax);"
   ]
  },
  {
   "cell_type": "markdown",
   "metadata": {},
   "source": [
    "### Budujemy model!"
   ]
  },
  {
   "cell_type": "code",
   "execution_count": 4,
   "metadata": {},
   "outputs": [
    {
     "name": "stdout",
     "output_type": "stream",
     "text": [
      "x_train shape: (137, 9)\n",
      "547 train samples\n",
      "137 test samples\n"
     ]
    }
   ],
   "source": [
    "# Keras potrzebuje indeksowania klas od 0 do liczby klas\n",
    "dataset['cl'] = dataset['cl'].replace(2, 0)\n",
    "dataset['cl'] = dataset['cl'].replace(4, 1)\n",
    "\n",
    "X = dataset.iloc[:, :9].values\n",
    "y = dataset.iloc[:, 9].values\n",
    "y = keras.utils.to_categorical(y)\n",
    "\n",
    "X_train, X_test, y_train, y_test = train_test_split(X, y,test_size = 0.2)\n",
    "\n",
    "print('x_train shape:', X_test.shape)\n",
    "print(X_train.shape[0], 'train samples')\n",
    "print(X_test.shape[0], 'test samples')"
   ]
  },
  {
   "cell_type": "code",
   "execution_count": 8,
   "metadata": {},
   "outputs": [],
   "source": [
    "# Model\n",
    "\n",
    "model = Sequential()\n",
    "dim = X_train.shape[1]\n",
    "#Layer 1\n",
    "model.add(Dense(9, input_dim = dim, activation='relu'))\n",
    "model.add(Dropout(0.25))\n",
    "\n",
    "#Layer 2\n",
    "model.add(Dense(9, activation='relu'))\n",
    "model.add(Dropout(0.25))\n",
    "\n",
    "#Layer 3\n",
    "model.add(Dense(9, activation='relu'))\n",
    "model.add(Dropout(0.25))\n",
    "\n",
    "#output layer\n",
    "model.add(Dense(2))\n",
    "model.add(Activation('sigmoid'))\n",
    "model.compile(optimizer = 'rmsprop',loss = 'binary_crossentropy',\n",
    "metrics = ['accuracy'])"
   ]
  },
  {
   "cell_type": "code",
   "execution_count": 9,
   "metadata": {},
   "outputs": [
    {
     "name": "stdout",
     "output_type": "stream",
     "text": [
      "Train on 547 samples, validate on 137 samples\n",
      "Epoch 1/50\n",
      "547/547 [==============================] - 1s 1000us/step - loss: 1.1028 - acc: 0.4598 - val_loss: 0.7619 - val_acc: 0.3467\n",
      "Epoch 2/50\n",
      "547/547 [==============================] - 0s 142us/step - loss: 0.9411 - acc: 0.4817 - val_loss: 0.7342 - val_acc: 0.3504\n",
      "Epoch 3/50\n",
      "547/547 [==============================] - 0s 114us/step - loss: 0.8656 - acc: 0.4589 - val_loss: 0.7177 - val_acc: 0.4307\n",
      "Epoch 4/50\n",
      "547/547 [==============================] - 0s 83us/step - loss: 0.8041 - acc: 0.4845 - val_loss: 0.7000 - val_acc: 0.4453\n",
      "Epoch 5/50\n",
      "547/547 [==============================] - 0s 245us/step - loss: 0.7666 - acc: 0.5091 - val_loss: 0.6886 - val_acc: 0.5146\n",
      "Epoch 6/50\n",
      "547/547 [==============================] - 0s 87us/step - loss: 0.7267 - acc: 0.5356 - val_loss: 0.6717 - val_acc: 0.5657\n",
      "Epoch 7/50\n",
      "547/547 [==============================] - 0s 145us/step - loss: 0.7136 - acc: 0.5503 - val_loss: 0.6588 - val_acc: 0.5985\n",
      "Epoch 8/50\n",
      "547/547 [==============================] - 0s 126us/step - loss: 0.7026 - acc: 0.5932 - val_loss: 0.6455 - val_acc: 0.6642\n",
      "Epoch 9/50\n",
      "547/547 [==============================] - 0s 116us/step - loss: 0.6778 - acc: 0.6124 - val_loss: 0.6328 - val_acc: 0.7226\n",
      "Epoch 10/50\n",
      "547/547 [==============================] - 0s 111us/step - loss: 0.6730 - acc: 0.6600 - val_loss: 0.6221 - val_acc: 0.7263\n",
      "Epoch 11/50\n",
      "547/547 [==============================] - 0s 168us/step - loss: 0.6433 - acc: 0.6892 - val_loss: 0.6066 - val_acc: 0.7993\n",
      "Epoch 12/50\n",
      "547/547 [==============================] - 0s 139us/step - loss: 0.6277 - acc: 0.7239 - val_loss: 0.5876 - val_acc: 0.8796\n",
      "Epoch 13/50\n",
      "547/547 [==============================] - 0s 104us/step - loss: 0.5889 - acc: 0.7761 - val_loss: 0.5649 - val_acc: 0.9088\n",
      "Epoch 14/50\n",
      "547/547 [==============================] - 0s 133us/step - loss: 0.5902 - acc: 0.7797 - val_loss: 0.5407 - val_acc: 0.9161\n",
      "Epoch 15/50\n",
      "547/547 [==============================] - 0s 121us/step - loss: 0.5710 - acc: 0.7980 - val_loss: 0.5122 - val_acc: 0.9197\n",
      "Epoch 16/50\n",
      "547/547 [==============================] - 0s 125us/step - loss: 0.5221 - acc: 0.8382 - val_loss: 0.4729 - val_acc: 0.9270\n",
      "Epoch 17/50\n",
      "547/547 [==============================] - 0s 158us/step - loss: 0.5206 - acc: 0.8291 - val_loss: 0.4462 - val_acc: 0.9234\n",
      "Epoch 18/50\n",
      "547/547 [==============================] - 0s 151us/step - loss: 0.5156 - acc: 0.8282 - val_loss: 0.4218 - val_acc: 0.9270\n",
      "Epoch 19/50\n",
      "547/547 [==============================] - 0s 167us/step - loss: 0.4799 - acc: 0.8501 - val_loss: 0.3954 - val_acc: 0.9307\n",
      "Epoch 20/50\n",
      "547/547 [==============================] - 0s 121us/step - loss: 0.4632 - acc: 0.8455 - val_loss: 0.3722 - val_acc: 0.9270\n",
      "Epoch 21/50\n",
      "547/547 [==============================] - 0s 123us/step - loss: 0.4523 - acc: 0.8547 - val_loss: 0.3499 - val_acc: 0.9270\n",
      "Epoch 22/50\n",
      "547/547 [==============================] - 0s 137us/step - loss: 0.4345 - acc: 0.8647 - val_loss: 0.3334 - val_acc: 0.9270\n",
      "Epoch 23/50\n",
      "547/547 [==============================] - 0s 144us/step - loss: 0.4046 - acc: 0.8739 - val_loss: 0.3157 - val_acc: 0.9234\n",
      "Epoch 24/50\n",
      "547/547 [==============================] - 0s 135us/step - loss: 0.3982 - acc: 0.8793 - val_loss: 0.3046 - val_acc: 0.9307\n",
      "Epoch 25/50\n",
      "547/547 [==============================] - 0s 128us/step - loss: 0.3926 - acc: 0.8684 - val_loss: 0.2930 - val_acc: 0.9307\n",
      "Epoch 26/50\n",
      "547/547 [==============================] - 0s 113us/step - loss: 0.3611 - acc: 0.8867 - val_loss: 0.2801 - val_acc: 0.9343\n",
      "Epoch 27/50\n",
      "547/547 [==============================] - 0s 130us/step - loss: 0.3386 - acc: 0.8995 - val_loss: 0.2705 - val_acc: 0.9307\n",
      "Epoch 28/50\n",
      "547/547 [==============================] - 0s 217us/step - loss: 0.3415 - acc: 0.8931 - val_loss: 0.2614 - val_acc: 0.9343\n",
      "Epoch 29/50\n",
      "547/547 [==============================] - 0s 154us/step - loss: 0.3472 - acc: 0.8867 - val_loss: 0.2552 - val_acc: 0.9416\n",
      "Epoch 30/50\n",
      "547/547 [==============================] - 0s 170us/step - loss: 0.3128 - acc: 0.9159 - val_loss: 0.2505 - val_acc: 0.9270\n",
      "Epoch 31/50\n",
      "547/547 [==============================] - 0s 145us/step - loss: 0.3550 - acc: 0.8940 - val_loss: 0.2461 - val_acc: 0.9307\n",
      "Epoch 32/50\n",
      "547/547 [==============================] - 0s 78us/step - loss: 0.3163 - acc: 0.9004 - val_loss: 0.2393 - val_acc: 0.9343\n",
      "Epoch 33/50\n",
      "547/547 [==============================] - 0s 70us/step - loss: 0.3069 - acc: 0.8940 - val_loss: 0.2321 - val_acc: 0.9343\n",
      "Epoch 34/50\n",
      "547/547 [==============================] - 0s 65us/step - loss: 0.3049 - acc: 0.9040 - val_loss: 0.2318 - val_acc: 0.9343\n",
      "Epoch 35/50\n",
      "547/547 [==============================] - 0s 69us/step - loss: 0.2896 - acc: 0.9159 - val_loss: 0.2278 - val_acc: 0.9343\n",
      "Epoch 36/50\n",
      "547/547 [==============================] - 0s 64us/step - loss: 0.3098 - acc: 0.9095 - val_loss: 0.2241 - val_acc: 0.9343\n",
      "Epoch 37/50\n",
      "547/547 [==============================] - 0s 116us/step - loss: 0.2689 - acc: 0.9104 - val_loss: 0.2264 - val_acc: 0.9343\n",
      "Epoch 38/50\n",
      "547/547 [==============================] - 0s 71us/step - loss: 0.2606 - acc: 0.9068 - val_loss: 0.2169 - val_acc: 0.9343\n",
      "Epoch 39/50\n",
      "547/547 [==============================] - 0s 72us/step - loss: 0.2585 - acc: 0.9205 - val_loss: 0.2092 - val_acc: 0.9416\n",
      "Epoch 40/50\n",
      "547/547 [==============================] - 0s 70us/step - loss: 0.2365 - acc: 0.9250 - val_loss: 0.2120 - val_acc: 0.9380\n",
      "Epoch 41/50\n",
      "547/547 [==============================] - 0s 70us/step - loss: 0.2558 - acc: 0.9223 - val_loss: 0.2089 - val_acc: 0.9380\n",
      "Epoch 42/50\n",
      "547/547 [==============================] - 0s 71us/step - loss: 0.2707 - acc: 0.9150 - val_loss: 0.2016 - val_acc: 0.9380\n",
      "Epoch 43/50\n",
      "547/547 [==============================] - 0s 75us/step - loss: 0.2365 - acc: 0.9150 - val_loss: 0.2029 - val_acc: 0.9380\n",
      "Epoch 44/50\n",
      "547/547 [==============================] - 0s 77us/step - loss: 0.2423 - acc: 0.9406 - val_loss: 0.1970 - val_acc: 0.9380\n",
      "Epoch 45/50\n",
      "547/547 [==============================] - 0s 77us/step - loss: 0.2658 - acc: 0.9260 - val_loss: 0.1984 - val_acc: 0.9343\n",
      "Epoch 46/50\n",
      "547/547 [==============================] - 0s 76us/step - loss: 0.2275 - acc: 0.9305 - val_loss: 0.2013 - val_acc: 0.9380\n",
      "Epoch 47/50\n",
      "547/547 [==============================] - 0s 242us/step - loss: 0.2333 - acc: 0.9223 - val_loss: 0.1955 - val_acc: 0.9380\n",
      "Epoch 48/50\n",
      "547/547 [==============================] - 0s 68us/step - loss: 0.2259 - acc: 0.9406 - val_loss: 0.1901 - val_acc: 0.9380\n",
      "Epoch 49/50\n",
      "547/547 [==============================] - 0s 116us/step - loss: 0.1992 - acc: 0.9488 - val_loss: 0.1939 - val_acc: 0.9380\n",
      "Epoch 50/50\n",
      "547/547 [==============================] - 0s 131us/step - loss: 0.2312 - acc: 0.9196 - val_loss: 0.1882 - val_acc: 0.9380\n"
     ]
    },
    {
     "data": {
      "text/plain": [
       "<keras.callbacks.History at 0x12fc8a358>"
      ]
     },
     "execution_count": 9,
     "metadata": {},
     "output_type": "execute_result"
    }
   ],
   "source": [
    "#Fit/Train the model\n",
    "bsize = 32  \n",
    "model.fit(X_train, y_train, batch_size = bsize, epochs = 50, verbose = 1,validation_data = (X_test, y_test))"
   ]
  },
  {
   "cell_type": "code",
   "execution_count": 7,
   "metadata": {},
   "outputs": [],
   "source": [
    "predictions = model.predict_classes(X_test)"
   ]
  },
  {
   "cell_type": "code",
   "execution_count": null,
   "metadata": {},
   "outputs": [],
   "source": []
  }
 ],
 "metadata": {
  "kernelspec": {
   "display_name": "Python 3",
   "language": "python",
   "name": "python3"
  },
  "language_info": {
   "codemirror_mode": {
    "name": "ipython",
    "version": 3
   },
   "file_extension": ".py",
   "mimetype": "text/x-python",
   "name": "python",
   "nbconvert_exporter": "python",
   "pygments_lexer": "ipython3",
   "version": "3.6.5"
  }
 },
 "nbformat": 4,
 "nbformat_minor": 2
}
